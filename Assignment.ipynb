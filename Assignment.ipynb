{
 "cells": [
  {
   "cell_type": "code",
   "execution_count": 130,
   "id": "573542d0-94a9-468d-9773-bb1c938f0833",
   "metadata": {},
   "outputs": [],
   "source": [
    "import requests\n",
    "from bs4 import BeautifulSoup\n",
    "import pandas as pd\n",
    "import matplotlib.pyplot as plt\n"
   ]
  },
  {
   "cell_type": "code",
   "execution_count": null,
   "id": "01f78f53-5115-403c-a2ed-b87c2eea7f3c",
   "metadata": {},
   "outputs": [],
   "source": []
  },
  {
   "cell_type": "code",
   "execution_count": 131,
   "id": "9e0d675e-758a-4a53-ae3a-c6eaa2faa657",
   "metadata": {},
   "outputs": [],
   "source": [
    "products = []\n",
    "prices = []\n",
    "ratings = []"
   ]
  },
  {
   "cell_type": "code",
   "execution_count": null,
   "id": "46451020-1b6e-47b8-aaad-aa3bb7ba8b77",
   "metadata": {},
   "outputs": [],
   "source": []
  },
  {
   "cell_type": "code",
   "execution_count": 132,
   "id": "b77b4a1d-1e52-43e6-a2c7-611f86867106",
   "metadata": {},
   "outputs": [],
   "source": [
    "sp = requests.get(\"https://www.flipkart.com/televisions/pr?sid=ckf%2Cczl&p%5B%5D=facets.availability%255B%255D%3DExclude%2BOut%2Bof%2BStock&otracker=categorytree&p%5B%5D=facets.serviceability%5B%5D%3Dtrue&p%5B%5D=facets.brand%255B%255D%3DSamsung&otracker=nmenu_sub_TVs%20%26%20Appliances_0_Samsung\")\n",
    "sp = BeautifulSoup(sp.content, 'html.parser')"
   ]
  },
  {
   "cell_type": "code",
   "execution_count": null,
   "id": "444ba8cf-0009-4787-bf0f-7c313ac85b2d",
   "metadata": {},
   "outputs": [],
   "source": []
  },
  {
   "cell_type": "code",
   "execution_count": 133,
   "id": "aaa6b3c9-f465-41c6-b765-f40b853a6446",
   "metadata": {},
   "outputs": [],
   "source": [
    "for each in sp.find_all('a', href=True, attrs={'class':'_1fQZEK'}):\n",
    "    name = each.find('div', attrs={'class':'_4rR01T'})\n",
    "    price = each.find('div', attrs={'class':'_30jeq3 _1_WHN1'})\n",
    "    rate = each.find('div', attrs={'class':'_3LWZlK'})"
   ]
  },
  {
   "cell_type": "code",
   "execution_count": null,
   "id": "f68d7a19-7e90-4727-b26f-61c6d4b743f1",
   "metadata": {},
   "outputs": [],
   "source": [
    " "
   ]
  },
  {
   "cell_type": "code",
   "execution_count": 134,
   "id": "f4f8b707-a833-4a38-93bb-b571ccecc323",
   "metadata": {},
   "outputs": [],
   "source": [
    "    if name is None:\n",
    "        products.append(None)\n",
    "    else:\n",
    "        products.append(name.text)\n",
    "\n",
    "    if price is None:\n",
    "        prices.append(None)\n",
    "    else:\n",
    "        prices.append(price.text)\n",
    "\n",
    "    if rate is None:\n",
    "        ratings.append(None)\n",
    "    else:\n",
    "        ratings.append(rate.text)"
   ]
  },
  {
   "cell_type": "code",
   "execution_count": null,
   "id": "f039a891-8e0c-4bc3-bed3-d74f20d2a1ab",
   "metadata": {},
   "outputs": [],
   "source": []
  },
  {
   "cell_type": "code",
   "execution_count": 135,
   "id": "69497f44-b43c-470e-a68d-9fccd562f0b5",
   "metadata": {},
   "outputs": [
    {
     "name": "stdout",
     "output_type": "stream",
     "text": [
      "                                                           Product Name    Price Rating\n",
      "0  SAMSUNG Crystal 4K 125 cm (50 inch) Ultra HD (4K) LED Smart Tizen TV  ₹43,990    4.3\n"
     ]
    }
   ],
   "source": [
    "df = pd.DataFrame({'Product Name': products, 'Price': prices, 'Rating': ratings})\n",
    "print(df.to_string())\n",
    "\n",
    "df.to_csv('products.csv', index=False)\n",
    "\n",
    "df2 = pd.read_csv(\"products.csv\")"
   ]
  },
  {
   "cell_type": "code",
   "execution_count": null,
   "id": "0a3cd189-cf54-47b3-ab2a-f8eae2d5b0a3",
   "metadata": {},
   "outputs": [],
   "source": []
  },
  {
   "cell_type": "code",
   "execution_count": 136,
   "id": "27abd415-0e9c-4e6f-a190-988a2ad4e510",
   "metadata": {},
   "outputs": [
    {
     "data": {
      "image/png": "[encoded data removed]",
      "text/plain": [
       "<Figure size 1000x600 with 1 Axes>"
      ]
     },
     "metadata": {},
     "output_type": "display_data"
    }
   ],
   "source": [
    "plt.figure(figsize=(10, 6))\n",
    "plt.bar(df2['Rating'], df2['Price'], color='blue')\n",
    "plt.xlabel(\"Rating\")\n",
    "plt.ylabel(\"Price\")\n",
    "plt.title(\"Rating against Price\")\n",
    "plt.xticks(rotation=45)\n",
    "plt.tight_layout()\n",
    "plt.show()\n"
   ]
  }
 ],
 "metadata": {
  "kernelspec": {
   "display_name": "Python 3 (ipykernel)",
   "language": "python",
   "name": "python3"
  },
  "language_info": {
   "codemirror_mode": {
    "name": "ipython",
    "version": 3
   },
   "file_extension": ".py",
   "mimetype": "text/x-python",
   "name": "python",
   "nbconvert_exporter": "python",
   "pygments_lexer": "ipython3",
   "version": "3.11.5"
  }
 },
 "nbformat": 4,
 "nbformat_minor": 5
}
